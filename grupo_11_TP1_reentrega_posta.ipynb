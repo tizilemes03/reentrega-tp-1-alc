{
 "cells": [
  {
   "cell_type": "markdown",
   "id": "5c0cbb93-2880-4750-975d-11cce9f6b12c",
   "metadata": {
    "id": "5c0cbb93-2880-4750-975d-11cce9f6b12c"
   },
   "source": [
    "# Trabajo Práctico 1 - Matrices de Insumo Producto\n",
    "\n",
    "## Enunciado"
   ]
  },
  {
   "cell_type": "markdown",
   "id": "11f7face-a325-4e30-b13e-0c3d84280c5e",
   "metadata": {
    "id": "11f7face-a325-4e30-b13e-0c3d84280c5e"
   },
   "source": [
    "### Consigna 1 -"
   ]
  },
  {
   "cell_type": "markdown",
   "id": "e69c407d-9132-421c-8d02-508da3bb3ae6",
   "metadata": {
    "id": "e69c407d-9132-421c-8d02-508da3bb3ae6"
   },
   "source": [
    "### a) (I-A) es inversible"
   ]
  },
  {
   "cell_type": "markdown",
   "id": "c8bbe28d-d00f-45b4-81ad-01a6456324f1",
   "metadata": {
    "id": "c8bbe28d-d00f-45b4-81ad-01a6456324f1"
   },
   "source": [
    "Al ser ($I$ - $A$) inversible, la solución obtenida para el vector $p$ es única. Veámoslo con la siguiente demostración, donde la inversa de ($I$ - $A$) también se conoce como L y se llama matriz de Leontief: <br>\n",
    "$L \\in \\mathbb{R}^{n \\times n}$, $d \\in \\mathbb{R}^{n \\times 1}$ y $p \\in \\mathbb{R}^{n}$ Planteamos la ecuación $p = (I-A)^{-1}d$: <br>\n",
    "   $$\n",
    "   \\left(\\begin{matrix}\n",
    "   p_1 \\\\\n",
    "   \\vdots \\\\\n",
    "   p_n\n",
    "   \\end{matrix}\\right)\n",
    "   = \\left(\\begin{matrix}\n",
    "   l_{11} & \\cdots & l_{1n} \\\\\n",
    "   \\vdots & \\ddots & \\vdots \\\\\n",
    "   l_{1n} & \\cdots & l_{nn}\n",
    "   \\end{matrix}\\right)\n",
    "   \\left(\\begin{matrix}\n",
    "   d_1 \\\\\n",
    "   \\vdots \\\\\n",
    "   d_n\n",
    "   \\end{matrix}\\right)\n",
    "   $$\n",
    "Resolviendo con multiplicación de matrices obtenemos:\n",
    "$$\n",
    "\\begin{cases}\n",
    "p_1 = l_{11} d_1 + l_{12} d_2 + ... + l_{1n} d_n \\\\\n",
    "p_2 = l_{21} d_1 + l_{22} d_2 + ... + l_{2n} d_n \\\\\n",
    "\\vdots \\\\\n",
    "p_n = l_{n1} d_1 + l_{n2} d_2 + ... + l_{nn} d_n \\\\\n",
    "\\end{cases}\n",
    "$$\n",
    "Lo que nos da un único valor para cada componente del vector $p$.  "
   ]
  },
  {
   "cell_type": "markdown",
   "id": "54ab94a1-69eb-4386-9a55-c66392673900",
   "metadata": {
    "id": "54ab94a1-69eb-4386-9a55-c66392673900"
   },
   "source": [
    "### b) (I - A) es inversible y d = 0"
   ]
  },
  {
   "cell_type": "markdown",
   "id": "ec3cfab1-0506-4ee4-8484-b8f40ea47ed9",
   "metadata": {
    "id": "ec3cfab1-0506-4ee4-8484-b8f40ea47ed9"
   },
   "source": [
    "Observando la ecuación planteada en el item $a)$, si reemplazamos a $d$ por el vector 0 obtenemos:\n",
    "$$\n",
    "\\begin{cases}\n",
    "p_1 = l_{11}*0 + l_{12}*0 + ... + l_{1n}*0 \\\\\n",
    "p_2 = l_{21}*0 + l_{22}*0 + ... + l_{2n}*0 \\\\\n",
    "\\vdots \\\\\n",
    "p_n = l_{n1}*0 + l_{n2}*0 + ... + l_{nn}*0 \\\\\n",
    "\\end{cases}\n",
    "$$\n",
    "Lo cual nos daría la solución trivial $p$ = 0. Esto significa que si sustituimos el vector $p=0$ en la ecuación, efectivamente cumple la igualdad:\n",
    "$$\n",
    "(I-A)*0=0\n",
    "$$\n",
    "Dado que cualquier matriz multiplicada por el vector cero da como resultado el vector cero, esta es una solución correcta. <br>\n",
    "Además está solución es única ya que (I-A) es inversible. Esto significa que Nu(I-A) es vacío. Entonces, es correcto que la única solución del sistema planteado sea el vector 0. <br>"
   ]
  },
  {
   "cell_type": "markdown",
   "id": "d3827f99-cc1c-456c-92fe-40d2d5bc7646",
   "metadata": {
    "id": "d3827f99-cc1c-456c-92fe-40d2d5bc7646"
   },
   "source": [
    "### c) (I - A) no es inversible."
   ]
  },
  {
   "cell_type": "markdown",
   "id": "fc4ba17e-7e54-405c-9077-3e6511b3f069",
   "metadata": {
    "id": "fc4ba17e-7e54-405c-9077-3e6511b3f069"
   },
   "source": [
    "Como ($I$ - $A$) no es inversible, el sistema a resolver viene dado por la ecuación $(I - A)*p = d$ y es el siguiente:\n",
    "$$\n",
    "\\begin{cases}\n",
    "l_{11}*p_1 + l_{12}*p_2 + ... + l_{1n}*p_n = d_1 \\\\\n",
    "l_{21}*p_1 + l_{22}*p_2 + ... + l_{2n}*p_n = d_2 \\\\\n",
    "\\vdots \\\\\n",
    "l_{n1}*p_1 + l_{n2}*p_2 + ... + l_{nn}*p_n = d_n \\\\\n",
    "\\end{cases}\n",
    "$$\n",
    "Al contrario del punto anterior, que la matriz ($I$ - $A$) no sea inversible implica que su determinante es igual a 0. Esto significa, que su rango será menor que $n$, por lo tanto sus filas son linealmente dependientes. Entonces, al resolver el sistema escalonando la matriz podemos tener dos situaciones:\n",
    "1. Que las filas eliminadas por ser linealmente dependientes se igualen a cero, obteniendo así un sistema compatible indeterminado con infinitas soluciones para \\( p \\). En este caso, lo que obtendríamos es un generador del núcleo de (I-A) con sus posibles conjuntos solución que resultaran no triviales.\n",
    "2. Que las filas eliminadas por ser linealmente dependientes se igualen a un número distinto de cero, lo cual haría que el sistema no tenga solución\n",
    "."
   ]
  },
  {
   "cell_type": "markdown",
   "id": "876d932a-d5e1-405a-a1f4-3e0203cc16b8",
   "metadata": {
    "id": "876d932a-d5e1-405a-a1f4-3e0203cc16b8"
   },
   "source": [
    "### d) (I - A) no es inversible y d = 0."
   ]
  },
  {
   "cell_type": "markdown",
   "id": "6e2a5e6a-72e4-41be-b996-73aeef76c4bf",
   "metadata": {
    "id": "6e2a5e6a-72e4-41be-b996-73aeef76c4bf"
   },
   "source": [
    "Esto es un sistema homogéneo porque el término independiente\n",
    "$𝑑$ es cero. Como $(I−A)$ no es inversible, el determinante de $(I−A)$ es cero, lo cual implica que el sistema tiene soluciones no triviales. Este sería el primer caso del item anterior, las filas linealmente dependientes del sistema escalonado estarían igualadas a cero generando infinitas soluciones para p. Obtenemos un sistema compatible indeterminado ya que el número de ecuaciones es menor al número de incógnitas."
   ]
  },
  {
   "cell_type": "markdown",
   "id": "6ea60699-4c07-40fb-8f71-ec4cacf32708",
   "metadata": {
    "id": "6ea60699-4c07-40fb-8f71-ec4cacf32708"
   },
   "source": [
    "### Consigna 3 -  "
   ]
  },
  {
   "cell_type": "code",
   "execution_count": 1,
   "id": "260b913f-d6d3-47b8-9431-7a64d6d037a5",
   "metadata": {
    "id": "260b913f-d6d3-47b8-9431-7a64d6d037a5"
   },
   "outputs": [],
   "source": [
    "from funciones_reentrega import calcularLU, inversaLU\n",
    "import numpy as np\n",
    "A = np.array([[0.7, 0, -0.1],\n",
    "     [-0.05, 0, -0.2],\n",
    "     [-0.1, -0.15, 0.9]])\n",
    "L, U, P=calcularLU(A)\n",
    "inversa = inversaLU(L, U, P)\n",
    "d = np.array([[100], [100], [300]])\n",
    "p = inversa@d"
   ]
  },
  {
   "cell_type": "markdown",
   "id": "bb449dbf-2639-48f1-8f70-c1808c794c54",
   "metadata": {
    "id": "bb449dbf-2639-48f1-8f70-c1808c794c54"
   },
   "source": [
    "Queremos resolver $p = (I - A)^{-1} d$ con:\n",
    "$$\n",
    "A = \\left(\\begin{matrix}\n",
    "   0,3 & 0,0 & 0,1 \\\\\n",
    "   0,05 & 1,0 & 0,2\\\\\n",
    "   0,1 & 0,15 & 0,1\n",
    "   \\end{matrix}\\right),\n",
    "d= \\left(\\begin{matrix}\n",
    "   100\\\\\n",
    "   100 \\\\\n",
    "   300\n",
    "   \\end{matrix}\\right)\n",
    "$$\n",
    "utilizando inversaLU. <br>\n"
   ]
  },
  {
   "cell_type": "code",
   "execution_count": 2,
   "id": "f115c220-faa8-464f-aae8-02835a4ea3ab",
   "metadata": {
    "colab": {
     "base_uri": "https://localhost:8080/"
    },
    "executionInfo": {
     "elapsed": 27,
     "status": "ok",
     "timestamp": 1727314221303,
     "user": {
      "displayName": "Tizi Lemes",
      "userId": "10175839684175227165"
     },
     "user_tz": 180
    },
    "id": "f115c220-faa8-464f-aae8-02835a4ea3ab",
    "outputId": "ea26fbc6-af26-4cfc-9fff-c576c7947a10"
   },
   "outputs": [
    {
     "name": "stdout",
     "output_type": "stream",
     "text": [
      "El p obtenido fue:\n",
      "[[   68.96551724]\n",
      " [-5149.42528736]\n",
      " [ -517.24137931]]\n"
     ]
    }
   ],
   "source": [
    "print(\"El p obtenido fue:\")\n",
    "print(p)"
   ]
  },
  {
   "cell_type": "markdown",
   "id": "e3ba2f56-72f6-49a8-8f30-bee885150d35",
   "metadata": {
    "id": "e3ba2f56-72f6-49a8-8f30-bee885150d35"
   },
   "source": [
    "- ¿Hay una justificación económica de los valores encontrados para $p$?\n",
    "- ¿Cuál es la característica de la matriz que lleva a esta solución?\n",
    "\n",
    "Los valores negativos obtenidos en $p$ pueden interpretarse como pérdidas, déficits o salidas netas. Esto sugiere que ciertos sectores están experimentando desbalances, es decir, consumen más recursos de los que generan. Analicemos el significado de la matriz $A$. Cada fila indica cuanta demanda interna tiene cada producto. En el caso de la primera fila de la matriz: <br>\n",
    "- para producir $p_1$ unidades de Producto 1 se requiere $0,3p_1$ unidades de Producto 1.\n",
    "- para producir $p_2$ unidades de Producto 2 se requiere $0p_2$ unidades de Producto 1.\n",
    "- para producir $p_3$ unidades de Producto 3 se requiere $0,1p_3$ unidades de Producto 1.\n",
    "\n",
    "En la segunda fila de la matriz $A$ se puede observar un problema importante: para producir $p_2$ unidades de Producto 2 se requiere $1p_2$ unidades de Producto 2, lo cual significa que el sector no deja excedente de $p_2$. Al mismo tiempo, para producir $p_2$ unidades de Producto 2 se requiere $0,15p_2$ unidades de Producto 3. Esto genera un desbalance claro, ya que entre los sectores 2 y 3 se están consumiendo más recursos de $p_2$ de los que realmente se están generando. A medida que varios sectores consumen entre sí más de lo que pueden producir el sistema se vuelve insostenible."
   ]
  },
  {
   "cell_type": "markdown",
   "id": "4e0fb0a4-92d9-4096-b66e-d7332809c9be",
   "metadata": {
    "id": "4e0fb0a4-92d9-4096-b66e-d7332809c9be"
   },
   "source": [
    "### Consigna 4 -"
   ]
  },
  {
   "cell_type": "markdown",
   "id": "-l3GLXwR6jQp",
   "metadata": {
    "id": "-l3GLXwR6jQp"
   },
   "source": [
    "En este punto vamos a analizar que sucede con la producción total $P$ , cuando la demanda externa cambia en un $$\\triangle d= \\left(\\begin{matrix}\n",
    "   0\\\\\n",
    "   0 \\\\\n",
    "   1\n",
    "   \\end{matrix}\\right)$$\n",
    "\n"
   ]
  },
  {
   "cell_type": "markdown",
   "id": "gbQHW3wg6qeo",
   "metadata": {
    "id": "gbQHW3wg6qeo"
   },
   "source": [
    "Nos encontramos con la ecuación:  $$p=(I-A)^{-1}d$$"
   ]
  },
  {
   "cell_type": "markdown",
   "id": "CMAsVu0T6xDF",
   "metadata": {
    "id": "CMAsVu0T6xDF"
   },
   "source": [
    "Al modificar la demanda externa en un $\\triangle d$, nuestra producción total también se modifica en un $\\triangle p$. La ecuación quedaria: $$ p + \\triangle p = (I-A)^{-1}(d+\\triangle d) $$"
   ]
  },
  {
   "cell_type": "markdown",
   "id": "XbaPmyDD7F-Y",
   "metadata": {
    "id": "XbaPmyDD7F-Y"
   },
   "source": [
    "Desarrollamos: $$ p + \\triangle p = (I-A)^{-1}d+(I-A)^{-1}\\triangle d) $$"
   ]
  },
  {
   "cell_type": "markdown",
   "id": "VQgEnCrE7G8f",
   "metadata": {
    "id": "VQgEnCrE7G8f"
   },
   "source": [
    "Como $p=(I-A)^{-1}d$ : $$  \\cancel{p} + \\triangle p = \\cancel{(I-A)^{-1}d}+(I-A)^{-1}\\triangle d) $$"
   ]
  },
  {
   "cell_type": "markdown",
   "id": "nKzZOe-H7I7v",
   "metadata": {
    "id": "nKzZOe-H7I7v"
   },
   "source": [
    "Entonces, en conclusión: $$  \\triangle p =(I-A)^{-1}\\triangle d $$"
   ]
  },
  {
   "cell_type": "markdown",
   "id": "q8Kmn7soAcSS",
   "metadata": {
    "id": "q8Kmn7soAcSS"
   },
   "source": [
    "### Consigna 5 -"
   ]
  },
  {
   "cell_type": "markdown",
   "id": "3YbwxncoAfx-",
   "metadata": {
    "id": "3YbwxncoAfx-"
   },
   "source": [
    "Queremos encontrar los coeficientes técnicos **A** y la matriz de Leontief(**L**) donde $A = ZP^{-1}$ y $L = (I - A)^{-1}$. <br>\n",
    "**Z** representa la demanda interna y **P** el total producido. Matricialmente queda expresado de la siguiente manera:\n",
    "$$\n",
    "z = \\left(\\begin{matrix}\n",
    "350 & 0 & 0 \\\\\n",
    "50 & 250 & 150 \\\\\n",
    "200 & 150 & 550\n",
    "\\end{matrix}\\right)\n",
    "\\\\\n",
    "P = \\left(\\begin{matrix}\n",
    "1000 & 0 & 0 \\\\\n",
    "0 & 500 & 0 \\\\\n",
    "0 & 0 & 1100\n",
    "\\end{matrix}\\right)\n",
    "$$\n",
    "Al ser **P** una matriz diagonal su inversa es\n",
    "$$\n",
    "P^{-1} = \\left(\\begin{matrix}\n",
    "1/1000 & 0 & 0 \\\\\n",
    "0 & 1/500 & 0 \\\\\n",
    "0 & 0 & 1/1100\n",
    "\\end{matrix}\\right)\n",
    "$$\n",
    "Entonces,\n",
    "$$\n",
    "A = \\left(\\begin{matrix}\n",
    "350 & 0 & 0 \\\\\n",
    "50 & 250 & 150 \\\\\n",
    "200 & 150 & 550\n",
    "\\end{matrix}\\right)\n",
    "\\left(\\begin{matrix}\n",
    "1/1000 & 0 & 0 \\\\\n",
    "0 & 1/500 & 0 \\\\\n",
    "0 & 0 & 1/1100\n",
    "\\end{matrix}\\right)\n",
    "= \\left(\\begin{matrix}\n",
    "0,35 & 0 & 0 \\\\\n",
    "0,05 & 0,5 & 0,15 \\\\\n",
    "0,2 & 0,3 & 0,55\n",
    "\\end{matrix}\\right)\n",
    "$$"
   ]
  },
  {
   "cell_type": "markdown",
   "id": "xrnT8B5DHWEr",
   "metadata": {
    "id": "xrnT8B5DHWEr"
   },
   "source": [
    "Ahora calculamos **L**\n",
    "$$\n",
    "(I - A) = \\left(\\begin{matrix}\n",
    "0,65 & 0 & 0 \\\\\n",
    "-0,05 & 0,5 & -0,15 \\\\\n",
    "-0,2 & -0,3 & 0,45\n",
    "\\end{matrix}\\right)\n",
    "$$\n",
    "Por lo tanto,\n",
    "$$\n",
    "L = \\left(\\begin{matrix}\n",
    "20/13 & 0 & 0 \\\\\n",
    "35/78 & 2,5 & 5/6 \\\\\n",
    "115/117 & 5/3 & 25/9\n",
    "\\end{matrix}\\right)\n",
    "$$"
   ]
  },
  {
   "cell_type": "markdown",
   "id": "LAiOFGKye2qe",
   "metadata": {
    "id": "LAiOFGKye2qe"
   },
   "source": [
    "# Consigna 6\n"
   ]
  },
  {
   "cell_type": "markdown",
   "id": "crAJ8obce-qV",
   "metadata": {
    "id": "crAJ8obce-qV"
   },
   "source": [
    "Partimos de la base que cuando nos interesa saber como es el flujo de capitales sobre una determinada región \"r\" y su relación con la región \"s\" podemos usar el modelo de Leontief para dos regiones :\n",
    "\n",
    "$$\n",
    "\\left(\\begin{matrix}\n",
    "\\left(\\begin{matrix}\n",
    "   I_{nxn} & 0_{nxm}\\\\\n",
    "    0_{mxn} & I_{mxm}\\\\\n",
    "   \\end{matrix}\\right)\n",
    "   -\n",
    "   \\left(\\begin{matrix}\n",
    "   A^{rr} & A^{rs}\\\\\n",
    "   A^{sr} & A^{ss}\\\\\n",
    "   \\end{matrix}\\right)   \n",
    "\\end{matrix}\\right)   \n",
    "\\left(\\begin{matrix}\n",
    "p^{r}\\\\\n",
    "p^{s}\\\\\n",
    "\\end{matrix}\\right)\n",
    "=\n",
    "\\left(\\begin{matrix}\n",
    "d^{r}\\\\\n",
    "d^{s}\\\\\n",
    "\\end{matrix}\\right)\n",
    "(1)\n",
    "$$\n",
    "\n",
    "\n",
    "Si sobre esta se efectúa un shock sobre la demanda, de forma que la nueva producción se vea alterada, y nos interesa saber cúal sería la producción adicional que se requiere para abastecer lo que pide la nueva demanda en la relación interregional de \"r\" y \"s\", planteamos :  \n",
    "\n",
    "$$\n",
    "\\left(\\begin{matrix}\n",
    "\\left(\\begin{matrix}\n",
    "   I_{nxn} & 0_{nxm}\\\\\n",
    "    0_{mxn} & I_{mxm}\\\\\n",
    "   \\end{matrix}\\right)\n",
    "   -\n",
    "   \\left(\\begin{matrix}\n",
    "   A^{rr} & A^{rs}\\\\\n",
    "   A^{sr} & A^{ss}\\\\\n",
    "   \\end{matrix}\\right)   \n",
    "\\end{matrix}\\right)   \n",
    "\\left(\\begin{matrix}\n",
    "p^{r'}\\\\\n",
    "p^{s'}\\\\\n",
    "\\end{matrix}\\right)\n",
    "=\n",
    "\\left(\\begin{matrix}\n",
    "d^{r'}\\\\\n",
    "d^{s'}\\\\\n",
    "\\end{matrix}\\right)\n",
    "$$\n",
    "\n",
    "donde:\n",
    "- $p^{r'} = p^{r} + \\triangle p^{r}$\n",
    "- $p^{s'} = p^{s} + \\triangle p^{s}$\n",
    "- $d^{r'} = d^{r} + \\triangle d^{r}$\n",
    "- $d^{s'} = d^{s} + \\triangle d^{s}$\n",
    "\n",
    "Desarrollo:\n",
    "\n",
    "$$\n",
    "\\left(\\begin{matrix}\n",
    "\\left(\\begin{matrix}\n",
    "   I_{nxn} & 0_{nxm}\\\\\n",
    "    0_{mxn} & I_{mxm}\\\\\n",
    "   \\end{matrix}\\right)\n",
    "   -\n",
    "   \\left(\\begin{matrix}\n",
    "   A^{rr} & A^{rs}\\\\\n",
    "   A^{sr} & A^{ss}\\\\\n",
    "   \\end{matrix}\\right)   \n",
    "\\end{matrix}\\right)   \n",
    "\\left(\\begin{matrix}\n",
    "p^{r} + \\triangle p^{r}\\\\\n",
    "p^{s} + \\triangle p^{s}\\\\\n",
    "\\end{matrix}\\right)\n",
    "=\n",
    "\\left(\\begin{matrix}\n",
    "d^{r} + \\triangle d^{r}\\\\\n",
    "d^{s} + \\triangle d^{s}\\\\\n",
    "\\end{matrix}\\right)\n",
    "$$\n",
    "\n",
    "Distribuimos\n",
    "\n",
    "$$\n",
    "\\left(\\begin{matrix}\n",
    "\\left(\\begin{matrix}\n",
    "   I_{nxn} & 0_{nxm}\\\\\n",
    "    0_{mxn} & I_{mxm}\\\\\n",
    "   \\end{matrix}\\right)\n",
    "   -\n",
    "   \\left(\\begin{matrix}\n",
    "   A^{rr} & A^{rs}\\\\\n",
    "   A^{sr} & A^{ss}\\\\\n",
    "   \\end{matrix}\\right)   \n",
    "\\end{matrix}\\right)   \n",
    "\\left(\\begin{matrix}\n",
    "p^{r} \\\\\n",
    "p^{s} \\\\\n",
    "\\end{matrix}\\right)\n",
    "+\n",
    "\\left(\\begin{matrix}\n",
    "\\left(\\begin{matrix}\n",
    "   I_{nxn} & 0_{nxm}\\\\\n",
    "    0_{mxn} & I_{mxm}\\\\\n",
    "   \\end{matrix}\\right)\n",
    "   -\n",
    "   \\left(\\begin{matrix}\n",
    "   A^{rr} & A^{rs}\\\\\n",
    "   A^{sr} & A^{ss}\\\\\n",
    "   \\end{matrix}\\right)   \n",
    "\\end{matrix}\\right)\n",
    "\\left(\\begin{matrix}\n",
    "\\triangle p^{r} \\\\\n",
    "\\triangle p^{s} \\\\\n",
    "\\end{matrix}\\right)\n",
    "=\n",
    "\\left(\\begin{matrix}\n",
    "d^{r} \\\\\n",
    "d^{s} \\\\\n",
    "\\end{matrix}\\right)\n",
    "+\n",
    "\\left(\\begin{matrix}\n",
    "\\triangle d^{r} \\\\\n",
    "\\triangle d^{s} \\\\\n",
    "\\end{matrix}\\right)\n",
    "$$\n",
    "Si restamos la ecuación (1) a esta que obtuvimos recién, el sistema nos quedaría:\n",
    "$$\n",
    "\\left(\\begin{matrix}\n",
    "\\left(\\begin{matrix}\n",
    "   I_{nxn} & 0_{nxm}\\\\\n",
    "    0_{mxn} & I_{mxm}\\\\\n",
    "   \\end{matrix}\\right)\n",
    "   -\n",
    "   \\left(\\begin{matrix}\n",
    "   A^{rr} & A^{rs}\\\\\n",
    "   A^{sr} & A^{ss}\\\\\n",
    "   \\end{matrix}\\right)   \n",
    "\\end{matrix}\\right)\n",
    "\\left(\\begin{matrix}\n",
    "\\triangle p^{r} \\\\\n",
    "\\triangle p^{s} \\\\\n",
    "\\end{matrix}\\right)\n",
    "=\n",
    "\\left(\\begin{matrix}\n",
    "\\triangle d^{r} \\\\\n",
    "\\triangle d^{s} \\\\\n",
    "\\end{matrix}\\right)\n",
    "$$\n",
    "Resolviendo la resta, podemos obtener una multiplicación por bloques de las matrices que componen a la matriz de insumo-producto para dos regiones; la cuál puede realizarse en el caso en que se den las condiciones básicas para multiplicar matrices, es decir que la cantidad de columnas de la matriz posicionada en la derecha sean iguales a la cantidad de filas de la matriz a la izquierda y eso dependerá de la cantidad de relaciones económicas que hayan en los sectores de una región. Teniendo en cuenta eso, podemos ver que en nuestro caso es posible, por lo que continuamos así:\n",
    "$$\n",
    "\\left(\\begin{matrix}\n",
    "I_{nxn}-A^{rr} & -A^{rs} \\\\\n",
    "-A^{sr} & I_{mxm}-A^{ss}\n",
    "\\end{matrix}\\right)\n",
    "\\left(\\begin{matrix}\n",
    "\\triangle p^{r} \\\\\n",
    "\\triangle p^{s} \\\\\n",
    "\\end{matrix}\\right)\n",
    "=\n",
    "\\left(\\begin{matrix}\n",
    "\\triangle d^{r} \\\\\n",
    "\\triangle d^{s} \\\\\n",
    "\\end{matrix}\\right)\n",
    "$$\n",
    "Luego la desarrollamos y reemplazando $\\triangle d^{s}$ por 0, obtenemos \"dos ecuaciones\" para despejar $\\triangle p^{r}$:\n",
    "$$\n",
    "(I_{nxn}-A^{rr})\\triangle p^{r} + (-A^{rs})\\triangle p^{s} = \\triangle d^{r} (2)\n",
    "$$\n",
    "$$\n",
    "(-A^{sr})\\triangle p^{r} + (I_{mxm}-A^{ss})\\triangle p^{s} = 0 (3)\n",
    "$$\n",
    "De la ecuación (3) obtenemos:\n",
    "$$\n",
    "\\triangle p^{s} = (I_{mxm}-A^{ss})^{-1} (A^{sr})\\triangle p^{r}\n",
    "$$\n",
    "Reemplazándolo en la ecuación (2), está nos queda:\n",
    "$$\n",
    "(I_{nxn}-A^{rr})\\triangle p^{r} + (-A^{rs})(I_{mxm}-A^{ss})^{-1} (A^{sr})\\triangle p^{r} = \\triangle d^{r}\n",
    "$$\n",
    "Sacamos factor común $\\triangle p^{r}$, y finalmente obtenemos el valor pedido del mismo:\n",
    "$$\n",
    "\\triangle p^{r} = [(I_{nxn}-A^{rr})- A^{rs}I_{mxm}-A^{ss})^{-1} (A^{sr})]^{-1}\\triangle d^{r}\n",
    "$$"
   ]
  },
  {
   "cell_type": "markdown",
   "id": "X9x0eIUeBA0_",
   "metadata": {
    "id": "X9x0eIUeBA0_"
   },
   "source": [
    "# CONSIGNA 7\n"
   ]
  },
  {
   "cell_type": "markdown",
   "id": "5d73f40b-1268-461b-b6c9-d018a65ac154",
   "metadata": {
    "id": "5d73f40b-1268-461b-b6c9-d018a65ac154"
   },
   "source": [
    "Cargamos el archivo propiciado"
   ]
  },
  {
   "cell_type": "code",
   "execution_count": 3,
   "id": "lZEk2TGj_Ex6",
   "metadata": {
    "id": "lZEk2TGj_Ex6"
   },
   "outputs": [],
   "source": [
    "import pandas as pd\n",
    "data = pd.read_excel(\"matrizlatina2011_compressed_0.xlsx\",sheet_name=1)"
   ]
  },
  {
   "cell_type": "markdown",
   "id": "e8240616-8780-469b-a99b-17b2ab0d7f65",
   "metadata": {
    "id": "e8240616-8780-469b-a99b-17b2ab0d7f65"
   },
   "source": [
    "Para poder crear la matriz de flujo de capitales intrarregionales e interregionales de Costa Rica y Nicaragua\n",
    "seguimos utilizamos los siguientes métodos de las librerias propiciadas."
   ]
  },
  {
   "cell_type": "code",
   "execution_count": 4,
   "id": "dbPdTf99BEG7",
   "metadata": {
    "id": "dbPdTf99BEG7"
   },
   "outputs": [],
   "source": [
    "from funciones_reentrega import generadorMatrizZ\n",
    "ZCriCri = generadorMatrizZ(data,\"CRI\",\"NIC\")\n",
    "\n",
    "ZNicNic = generadorMatrizZ(data,\"NIC\",\"NIC\")\n",
    "\n",
    "ZCriNic = generadorMatrizZ(data,\"CRI\",\"NIC\")\n",
    "\n",
    "ZNicCri = generadorMatrizZ(data,\"NIC\",\"CRI\")"
   ]
  },
  {
   "cell_type": "markdown",
   "id": "7e8fffe8-4681-4792-be37-cc22e450cc63",
   "metadata": {
    "id": "7e8fffe8-4681-4792-be37-cc22e450cc63"
   },
   "source": [
    "Las producciones totales de Costa Rica por un lado, y Nicaragua por el otro"
   ]
  },
  {
   "cell_type": "code",
   "execution_count": 5,
   "id": "2iTR1u90_2eE",
   "metadata": {
    "id": "2iTR1u90_2eE"
   },
   "outputs": [],
   "source": [
    "from funciones_reentrega import produccionesPais\n",
    "pCri = produccionesPais(data,\"CRI\")\n",
    "\n",
    "pNic = produccionesPais(data,\"NIC\")"
   ]
  },
  {
   "cell_type": "markdown",
   "id": "d2e43a80-c6e8-46bf-935a-95f428ed9cbe",
   "metadata": {
    "id": "d2e43a80-c6e8-46bf-935a-95f428ed9cbe"
   },
   "source": [
    "Esta es la matriz Z de flujo de capitales de  manera intrarregional e interregional para los sectores P1 = Costa Rica y P2 = Nicaragua"
   ]
  },
  {
   "cell_type": "code",
   "execution_count": 6,
   "id": "_avNZUebBP3U",
   "metadata": {
    "id": "_avNZUebBP3U",
    "outputId": "4e48411e-ff1f-48ad-8c69-dc5f07776c7e"
   },
   "outputs": [
    {
     "name": "stdout",
     "output_type": "stream",
     "text": [
      "          0         1    2         3         4         5         6         7   \\\n",
      "0   1.153226  0.007047  0.0  0.000476  3.040210  0.935190  0.496777  0.174665   \n",
      "1   0.000000  0.000000  0.0  0.000000  0.000000  0.000000  0.000000  0.000000   \n",
      "2   0.000000  0.000000  0.0  0.000000  0.000000  0.000000  0.000000  0.000000   \n",
      "3   0.000000  0.000000  0.0  0.000000  0.000000  0.000000  0.000000  0.000000   \n",
      "4   0.000000  0.215696  0.0  0.000000  2.857147  0.577612  0.000000  0.501390   \n",
      "..       ...       ...  ...       ...       ...       ...       ...       ...   \n",
      "75  0.005082  0.000000  0.0  0.000537  0.058727  0.021461  0.005617  0.062318   \n",
      "76  0.009327  0.000030  0.0  0.000398  0.018129  0.003543  0.000867  0.017849   \n",
      "77  0.000000  0.000000  0.0  0.000000  0.000000  0.000000  0.000000  0.000000   \n",
      "78  0.100966  0.001131  0.0  0.033619  0.043294  0.021918  0.023382  0.049462   \n",
      "79  0.005485  0.000000  0.0  0.000861  0.006769  0.007023  0.000786  0.002903   \n",
      "\n",
      "          8         9   ...   70        71        72         73         74  \\\n",
      "0   0.000018  0.216901  ...  0.0  0.000000  0.166370   0.000000   0.355074   \n",
      "1   0.000000  0.000000  ...  0.0  0.000000  0.000000   0.000000   0.000000   \n",
      "2   0.000000  0.000000  ...  0.0  0.000000  0.000000   0.000000   0.000000   \n",
      "3   0.000000  0.000000  ...  0.0  0.013244  0.004331   0.191915  68.656098   \n",
      "4   0.001821  0.000000  ...  0.0  0.005356  0.008032   0.033811   0.088331   \n",
      "..       ...       ...  ...  ...       ...       ...        ...        ...   \n",
      "75  0.006100  0.012160  ...  0.0  0.070910  0.070123   1.889266  92.118246   \n",
      "76  0.000379  0.000617  ...  0.0  0.443584  0.153783   1.613792   1.169620   \n",
      "77  0.000000  0.000000  ...  0.0  1.176243  0.695838   7.392841  18.109905   \n",
      "78  0.007680  0.011951  ...  0.0  0.700396  0.356528  19.126470  68.780398   \n",
      "79  0.000193  0.000075  ...  0.0  3.869818  1.881395  33.689728  67.945291   \n",
      "\n",
      "           75         76         77         78          79  \n",
      "0    0.000000   0.000000   0.000000   0.184380   37.810193  \n",
      "1    0.000000   0.000000   0.000000   0.000000    0.000000  \n",
      "2    0.000000   0.000000   0.000000   0.000000    0.000000  \n",
      "3    0.063100   0.095857   0.095443   0.041132    1.938031  \n",
      "4    0.066508   0.010835   0.031140   0.026350   33.142018  \n",
      "..        ...        ...        ...        ...         ...  \n",
      "75   3.849817   2.329597   9.287091   4.889133   68.153398  \n",
      "76   8.193666  53.911819   8.896415   7.251069   41.721430  \n",
      "77  19.247584   5.599573  79.819134  32.555134  158.727271  \n",
      "78   9.217161  40.190914  58.219599  14.496966  229.588422  \n",
      "79  79.079347  11.079958  32.863552  20.709862  266.493913  \n",
      "\n",
      "[80 rows x 80 columns]\n"
     ]
    }
   ],
   "source": [
    "from funciones_reentrega import ZGrande\n",
    "Z = ZGrande(ZCriCri,ZCriNic,ZNicCri,ZNicNic)\n",
    "print(pd.DataFrame(Z))"
   ]
  },
  {
   "cell_type": "markdown",
   "id": "feae98b5-a766-4233-b984-0cdf67d34988",
   "metadata": {
    "id": "feae98b5-a766-4233-b984-0cdf67d34988"
   },
   "source": [
    "Para la creacion de cada matriz A insumo producto para armar la de la ecuación 4, precisamos de las siguientes matrices\n",
    "construidas a partir de las siguientes funciones"
   ]
  },
  {
   "cell_type": "code",
   "execution_count": 7,
   "id": "fX67UwuKCTvT",
   "metadata": {
    "id": "fX67UwuKCTvT",
    "outputId": "3a6564a5-e143-4cc9-aae8-df1bd5950de7"
   },
   "outputs": [],
   "source": [
    "from funciones_reentrega import IdxP, AInsumoProducto\n",
    "#La siguiente variable me devuelve la matriz diagonal para hacer A= ZP1\n",
    "IdPCri = IdxP(pCri)\n",
    "\n",
    "##La siguiente variable me devuelve la matriz diagonal para hacer A= ZP2\n",
    "IdPNic = IdxP(pNic)\n",
    "\n",
    "#Calculamos sus inversas respectivamente..\n",
    "L_Id_Cri, U_Id_Cri, P_Id_Cri =calcularLU(IdPCri)\n",
    "IdCri_inv = inversaLU(L_Id_Cri, U_Id_Cri, P_Id_Cri)\n",
    "#\n",
    "L_Id_Nic, U_Id_Nic, P_Id_Nic =calcularLU(IdPNic)\n",
    "IdNic_inv = inversaLU(L_Id_Nic, U_Id_Nic, P_Id_Nic)\n",
    "\n",
    "#La Matriz de coeficientes tecnicos intrarregional: COSTA RICA-COSTA RICA\n",
    "ACriCri = AInsumoProducto(ZCriCri,IdCri_inv)\n",
    "#La Matriz de coeficientes tecnicos intrarregional: COSTA RICA-NICARAGUA\n",
    "ACriNic = AInsumoProducto(ZCriCri,IdNic_inv)\n",
    "#La Matriz de coeficientes tecnicos intrarregional: NICARAGUA- COSTA RICA\n",
    "ANicCri = AInsumoProducto(ZCriCri,IdCri_inv)\n",
    "#La Matriz de coeficientes tecnicos intrarregional: NICARAGUA-NICARAGUA\n",
    "ANicNic = AInsumoProducto(ZCriCri,IdNic_inv)\n"
   ]
  },
  {
   "cell_type": "markdown",
   "id": "d2cd2a03-90c9-474b-8f96-9176b4638a5e",
   "metadata": {
    "id": "d2cd2a03-90c9-474b-8f96-9176b4638a5e"
   },
   "source": [
    "La creacion de la Matriz A que nos aporta la información de insumo-producto en economias regionales e interregionales\n",
    " viene de parte de la siguiente función"
   ]
  },
  {
   "cell_type": "code",
   "execution_count": 8,
   "id": "VqcKMg9bCtOV",
   "metadata": {
    "id": "VqcKMg9bCtOV",
    "outputId": "6ea73218-df91-47aa-cb92-7ecedf795d57"
   },
   "outputs": [
    {
     "name": "stdout",
     "output_type": "stream",
     "text": [
      "          0             1    2         3         4         5         6   \\\n",
      "0   0.000250  6.801845e-05  0.0  0.000004  0.001192  0.000912  0.001415   \n",
      "1   0.000000  0.000000e+00  0.0  0.000000  0.000000  0.000000  0.000000   \n",
      "2   0.000000  0.000000e+00  0.0  0.000000  0.000000  0.000000  0.000000   \n",
      "3   0.000000  0.000000e+00  0.0  0.000000  0.000000  0.000000  0.000000   \n",
      "4   0.000000  2.081949e-03  0.0  0.000000  0.001120  0.000563  0.000000   \n",
      "..       ...           ...  ...       ...       ...       ...       ...   \n",
      "75  0.000001  0.000000e+00  0.0  0.000004  0.000023  0.000021  0.000016   \n",
      "76  0.000002  2.892776e-07  0.0  0.000003  0.000007  0.000003  0.000002   \n",
      "77  0.000000  0.000000e+00  0.0  0.000000  0.000000  0.000000  0.000000   \n",
      "78  0.000022  1.091509e-05  0.0  0.000254  0.000017  0.000021  0.000067   \n",
      "79  0.000001  0.000000e+00  0.0  0.000007  0.000003  0.000007  0.000002   \n",
      "\n",
      "          7             8         9   ...   70        71            72  \\\n",
      "0   0.000082  2.186924e-08  0.005118  ...  0.0  0.000000  2.101414e-05   \n",
      "1   0.000000  0.000000e+00  0.000000  ...  0.0  0.000000  0.000000e+00   \n",
      "2   0.000000  0.000000e+00  0.000000  ...  0.0  0.000000  0.000000e+00   \n",
      "3   0.000000  0.000000e+00  0.000000  ...  0.0  0.000000  0.000000e+00   \n",
      "4   0.000236  2.201678e-06  0.000000  ...  0.0  0.000000  8.274518e-09   \n",
      "..       ...           ...       ...  ...  ...       ...           ...   \n",
      "75  0.000029  7.374054e-06  0.000287  ...  0.0  0.001259  1.706579e-03   \n",
      "76  0.000008  4.580814e-07  0.000015  ...  0.0  0.007874  3.742581e-03   \n",
      "77  0.000000  0.000000e+00  0.000000  ...  0.0  0.020880  1.693449e-02   \n",
      "78  0.000023  9.284083e-06  0.000282  ...  0.0  0.012433  8.676747e-03   \n",
      "79  0.000001  2.330027e-07  0.000002  ...  0.0  0.068695  4.578715e-02   \n",
      "\n",
      "          73        74        75        76        77            78        79  \n",
      "0   0.000000  0.000001  0.000000  0.000000  0.000000  7.687901e-07  0.000042  \n",
      "1   0.000000  0.000000  0.000000  0.000000  0.000000  0.000000e+00  0.000000  \n",
      "2   0.000000  0.000000  0.000000  0.000000  0.000000  0.000000e+00  0.000000  \n",
      "3   0.000000  0.000000  0.000000  0.000000  0.000000  0.000000e+00  0.000000  \n",
      "4   0.000000  0.000000  0.000000  0.000000  0.000000  0.000000e+00  0.001056  \n",
      "..       ...       ...       ...       ...       ...           ...       ...  \n",
      "75  0.002912  0.069807  0.005277  0.005046  0.014981  3.927826e-03  0.014742  \n",
      "76  0.002488  0.000886  0.011232  0.116780  0.014350  5.825355e-03  0.009024  \n",
      "77  0.011396  0.013724  0.026385  0.012129  0.128752  2.615410e-02  0.034333  \n",
      "78  0.029482  0.052122  0.012635  0.087059  0.093911  1.164656e-02  0.049661  \n",
      "79  0.051931  0.051489  0.108402  0.024001  0.053011  1.663786e-02  0.057643  \n",
      "\n",
      "[80 rows x 80 columns]\n"
     ]
    }
   ],
   "source": [
    "from funciones_reentrega import AInsumoProductoMultiRegional\n",
    "A = AInsumoProductoMultiRegional(ZCriCri,ZCriNic,ZNicCri,ZNicNic,IdCri_inv,IdNic_inv)\n",
    "print(pd.DataFrame(A))"
   ]
  },
  {
   "cell_type": "markdown",
   "id": "NoiDliQ8lAkq",
   "metadata": {
    "id": "NoiDliQ8lAkq"
   },
   "source": [
    "SIMULACIÓN DE SHOCK:\n",
    "¿Cómo impactará a nuestro modelo?\n",
    "Trabajaremos con un shock negativo del 10% sobre el sector 5 de las producciones de Costa Rica, y luego con un positivo del 3,3% sobre los\n",
    "sectores 6, 7, y 8 del país nombrado.\n"
   ]
  },
  {
   "cell_type": "code",
   "execution_count": 9,
   "id": "8kyQaYL4DKF_",
   "metadata": {
    "id": "8kyQaYL4DKF_"
   },
   "outputs": [],
   "source": [
    "#la demanda trabaja desde la fila 1 a la 40 sobre la region de Costa rica (indices del vector desde el 0 al 39), y de la 41 a la 80 sobre Nicaragua (indices del 40 al 79).\n",
    "from funciones_reentrega import demandaSimple\n",
    "demandaInter = demandaSimple(ACriCri,pNic)"
   ]
  },
  {
   "cell_type": "markdown",
   "id": "s7O3aoyYi_5f",
   "metadata": {
    "id": "s7O3aoyYi_5f"
   },
   "source": [
    "MODELO DE PRODUCCIÓN INTRARREGIONAL\n",
    "\n",
    "Utilizamos la siguiente ecuación:\n",
    "$$\n",
    "\\triangle p^{r} = [(I_{nxn}-A^{rr})]^{-1}\\triangle d^{r}\n",
    "$$"
   ]
  },
  {
   "cell_type": "markdown",
   "id": "8fb054ad-986d-46be-b540-00581daa5ca2",
   "metadata": {
    "id": "8fb054ad-986d-46be-b540-00581daa5ca2"
   },
   "source": [
    "Para comparar los modelos de nos propician los valores de producciones totales sobre especificamente uno de los dos paises sobre los cuales queremos trabajar\n",
    "según la ecuación (5) explicitada en la consigna del trabajo, que nos ayuda a obtener el diferencial de producción de la region R, en este caso nos interesa sobre\n",
    "Costa Rica. Para ello necesitamos lo siguiente:"
   ]
  },
  {
   "cell_type": "code",
   "execution_count": 10,
   "id": "IV7zkRknsm00",
   "metadata": {
    "id": "IV7zkRknsm00"
   },
   "outputs": [
    {
     "data": {
      "text/plain": [
       "array([[   0.        ],\n",
       "       [   0.        ],\n",
       "       [   0.        ],\n",
       "       [   0.        ],\n",
       "       [-138.66192482],\n",
       "       [  13.92453909],\n",
       "       [  10.20160672],\n",
       "       [   5.74336734],\n",
       "       [   0.        ],\n",
       "       [   0.        ],\n",
       "       [   0.        ],\n",
       "       [   0.        ],\n",
       "       [   0.        ],\n",
       "       [   0.        ],\n",
       "       [   0.        ],\n",
       "       [   0.        ],\n",
       "       [   0.        ],\n",
       "       [   0.        ],\n",
       "       [   0.        ],\n",
       "       [   0.        ],\n",
       "       [   0.        ],\n",
       "       [   0.        ],\n",
       "       [   0.        ],\n",
       "       [   0.        ],\n",
       "       [   0.        ],\n",
       "       [   0.        ],\n",
       "       [   0.        ],\n",
       "       [   0.        ],\n",
       "       [   0.        ],\n",
       "       [   0.        ],\n",
       "       [   0.        ],\n",
       "       [   0.        ],\n",
       "       [   0.        ],\n",
       "       [   0.        ],\n",
       "       [   0.        ],\n",
       "       [   0.        ],\n",
       "       [   0.        ],\n",
       "       [   0.        ],\n",
       "       [   0.        ],\n",
       "       [   0.        ]])"
      ]
     },
     "metadata": {},
     "output_type": "display_data"
    },
    {
     "data": {
      "text/plain": [
       "array([[ 2.72655896e+03],\n",
       "       [ 1.48902921e+02],\n",
       "       [ 0.00000000e+00],\n",
       "       [ 9.26644312e+01],\n",
       "       [ 1.24795732e+03],\n",
       "       [ 4.35880269e+02],\n",
       "       [ 3.19341204e+02],\n",
       "       [ 1.79784802e+02],\n",
       "       [ 3.90721103e+02],\n",
       "       [ 1.18490740e+02],\n",
       "       [ 7.24194787e+00],\n",
       "       [ 8.65288648e+02],\n",
       "       [ 5.23372810e+01],\n",
       "       [ 7.79875799e+01],\n",
       "       [ 3.10835102e+01],\n",
       "       [ 6.56420583e+02],\n",
       "       [ 6.25932145e+01],\n",
       "       [-1.06381135e+01],\n",
       "       [ 2.21097577e+01],\n",
       "       [ 1.08912853e+01],\n",
       "       [ 1.62343225e+02],\n",
       "       [ 6.69880054e+00],\n",
       "       [ 3.63216535e+02],\n",
       "       [ 4.16901155e+01],\n",
       "       [ 4.07310696e+02],\n",
       "       [-7.91206979e-02],\n",
       "       [-3.91734093e+01],\n",
       "       [-3.20571924e-01],\n",
       "       [-2.70235916e-02],\n",
       "       [ 0.00000000e+00],\n",
       "       [ 0.00000000e+00],\n",
       "       [ 5.63336340e+01],\n",
       "       [ 4.08716004e+01],\n",
       "       [ 6.48184808e+02],\n",
       "       [ 1.31961340e+03],\n",
       "       [ 7.27609213e+02],\n",
       "       [ 4.59423662e+02],\n",
       "       [ 6.19943375e+02],\n",
       "       [ 1.23885834e+03],\n",
       "       [ 4.61092246e+03]])"
      ]
     },
     "metadata": {},
     "output_type": "display_data"
    }
   ],
   "source": [
    "demandaIntra = demandaSimple(ACriCri,pNic)\n",
    "\n",
    "from funciones_reentrega import diferencialShock\n",
    "#La primera coordenada del array de shocks sera el sector (su indice es sector -1) y luego el porcentaje del shock que queremos aplicar\n",
    "shocks = [[5, -0.1],[6,0.033],[7,0.033],[8,0.033]]\n",
    "\n",
    "#Queremos saber como sería la diferencia entre una nueva demanda tras los shocks y la demanda previa a estos.\n",
    "deltaDemandaIntra = diferencialShock(demandaIntra,shocks)\n",
    "\n",
    "display(deltaDemandaIntra)\n",
    "#La demanda tras efectuar los shocks es la siguiente\n",
    "nuevaDemandaIntra = demandaIntra + deltaDemandaIntra\n",
    "\n",
    "display(nuevaDemandaIntra)"
   ]
  },
  {
   "cell_type": "code",
   "execution_count": 11,
   "id": "Wm4z4QsYD_D9",
   "metadata": {
    "id": "Wm4z4QsYD_D9"
   },
   "outputs": [],
   "source": [
    "#Ahora para el calculo de la producción...\n",
    "\n",
    "idMenosACriCri = (np.eye(ACriCri.shape[0]) - ACriCri)\n",
    "\n",
    "L_idMenosACriCri, U_idMenosACriCri, P_idMenosACriCri =calcularLU(idMenosACriCri)\n",
    "\n",
    "IdCri_inv = inversaLU(L_idMenosACriCri, U_idMenosACriCri, P_idMenosACriCri)\n",
    "\n",
    "#Usamos un slicing sobre el vector demanda desde el indice 0 hasta el 40 (excluyendolo), pues nos interesa trabajar sobre la producción de Costa Rica.\n",
    "deltaDemandaIntraCri = deltaDemandaIntra[0:40]\n"
   ]
  },
  {
   "cell_type": "markdown",
   "id": "8RyL2UEk3_gh",
   "metadata": {
    "id": "8RyL2UEk3_gh"
   },
   "source": []
  },
  {
   "cell_type": "code",
   "execution_count": 12,
   "id": "zM5Jdvz1AvxU",
   "metadata": {
    "id": "zM5Jdvz1AvxU",
    "outputId": "abcf69e6-abc4-4e98-d9f0-2b43d36273ab"
   },
   "outputs": [
    {
     "data": {
      "text/plain": [
       "array([[-1.37721659e-01],\n",
       "       [ 0.00000000e+00],\n",
       "       [ 0.00000000e+00],\n",
       "       [ 0.00000000e+00],\n",
       "       [-1.38808082e+02],\n",
       "       [ 1.41230291e+01],\n",
       "       [ 1.01616055e+01],\n",
       "       [ 5.73187481e+00],\n",
       "       [-4.24529894e-07],\n",
       "       [ 0.00000000e+00],\n",
       "       [ 1.35196457e-03],\n",
       "       [ 0.00000000e+00],\n",
       "       [ 0.00000000e+00],\n",
       "       [-7.59969951e-05],\n",
       "       [-6.67482767e-02],\n",
       "       [-8.20211936e-06],\n",
       "       [ 5.69950930e-04],\n",
       "       [-4.79843272e-02],\n",
       "       [ 2.15451017e-04],\n",
       "       [-1.34970201e-01],\n",
       "       [-5.50498059e-03],\n",
       "       [ 8.33313459e-05],\n",
       "       [-2.62912249e-08],\n",
       "       [-6.05599522e-03],\n",
       "       [ 3.20532071e-04],\n",
       "       [-2.73086757e-05],\n",
       "       [ 3.61573870e-03],\n",
       "       [-1.77071292e-06],\n",
       "       [ 3.60274353e-06],\n",
       "       [ 0.00000000e+00],\n",
       "       [ 0.00000000e+00],\n",
       "       [-5.36223087e-08],\n",
       "       [-4.08106099e-04],\n",
       "       [-1.56302666e-03],\n",
       "       [ 0.00000000e+00],\n",
       "       [-1.97048459e-03],\n",
       "       [-2.62850766e-03],\n",
       "       [ 0.00000000e+00],\n",
       "       [-9.69770503e-03],\n",
       "       [-1.96222002e-02]])"
      ]
     },
     "metadata": {},
     "output_type": "display_data"
    }
   ],
   "source": [
    "#Y como resultado obtenemos al diferencial de producción que buscabamos usando este método.\n",
    "\n",
    "deltaPCriIntra = IdCri_inv @ deltaDemandaIntraCri\n",
    "\n",
    "display(deltaPCriIntra)"
   ]
  },
  {
   "cell_type": "markdown",
   "id": "JMdp5FDjhhzY",
   "metadata": {
    "id": "JMdp5FDjhhzY"
   },
   "source": [
    "MODELO DE PRODUCCIÓN INTERREGIONAL\n",
    "\n",
    "Utilizamos :\n",
    "\n",
    "$$\n",
    "\\triangle p^{r} = [(I_{nxn}-A^{rr})- A^{rs}I_{mxm}-A^{ss})^{-1} (A^{sr})]^{-1}\\triangle d^{r}\n",
    "$$\n"
   ]
  },
  {
   "cell_type": "markdown",
   "id": "125ad682-e221-4917-a6eb-c212c8db6d92",
   "metadata": {
    "id": "125ad682-e221-4917-a6eb-c212c8db6d92"
   },
   "source": [
    "Ahora utilizando el método que se apoya sobre los coeficientes tecnicos del flujo de capitales interregional entre Costa Rica y Nicaragua\n",
    "según la ecuación (6), el diferencial de producción de la region de Costa Rica se calcula así:"
   ]
  },
  {
   "cell_type": "code",
   "execution_count": 13,
   "id": "IOM2qfZH4ahf",
   "metadata": {
    "id": "IOM2qfZH4ahf"
   },
   "outputs": [
    {
     "data": {
      "text/plain": [
       "'Calculamos el diferencial en la producción causado por el shock en la demanda'"
      ]
     },
     "execution_count": 13,
     "metadata": {},
     "output_type": "execute_result"
    }
   ],
   "source": [
    "'''Calculamos el diferencial en la producción causado por el shock en la demanda'''\n",
    "\n",
    "#La diferencia es que en el modelo interregional la variable inv_idMenosA\n",
    "#resulta ser suma y producto de otras matrices, a diferencia del modelo intrarregional..."
   ]
  },
  {
   "cell_type": "code",
   "execution_count": 14,
   "id": "RuURvklLvf44",
   "metadata": {
    "id": "RuURvklLvf44"
   },
   "outputs": [],
   "source": [
    "from funciones_reentrega import demandaCompleja\n",
    "demandaInter = demandaCompleja(ACriCri,ACriNic,ANicCri,ANicNic,pCri,pNic)"
   ]
  },
  {
   "cell_type": "code",
   "execution_count": 15,
   "id": "vfS5SW8us4KP",
   "metadata": {
    "id": "vfS5SW8us4KP"
   },
   "outputs": [
    {
     "data": {
      "text/plain": [
       "array([[   0.        ],\n",
       "       [   0.        ],\n",
       "       [   0.        ],\n",
       "       [   0.        ],\n",
       "       [-253.23214507],\n",
       "       [  32.17679457],\n",
       "       [  10.92951946],\n",
       "       [  69.94322066],\n",
       "       [   0.        ],\n",
       "       [   0.        ],\n",
       "       [   0.        ],\n",
       "       [   0.        ],\n",
       "       [   0.        ],\n",
       "       [   0.        ],\n",
       "       [   0.        ],\n",
       "       [   0.        ],\n",
       "       [   0.        ],\n",
       "       [   0.        ],\n",
       "       [   0.        ],\n",
       "       [   0.        ],\n",
       "       [   0.        ],\n",
       "       [   0.        ],\n",
       "       [   0.        ],\n",
       "       [   0.        ],\n",
       "       [   0.        ],\n",
       "       [   0.        ],\n",
       "       [   0.        ],\n",
       "       [   0.        ],\n",
       "       [   0.        ],\n",
       "       [   0.        ],\n",
       "       [   0.        ],\n",
       "       [   0.        ],\n",
       "       [   0.        ],\n",
       "       [   0.        ],\n",
       "       [   0.        ],\n",
       "       [   0.        ],\n",
       "       [   0.        ],\n",
       "       [   0.        ],\n",
       "       [   0.        ],\n",
       "       [   0.        ],\n",
       "       [   0.        ],\n",
       "       [   0.        ],\n",
       "       [   0.        ],\n",
       "       [   0.        ],\n",
       "       [   0.        ],\n",
       "       [   0.        ],\n",
       "       [   0.        ],\n",
       "       [   0.        ],\n",
       "       [   0.        ],\n",
       "       [   0.        ],\n",
       "       [   0.        ],\n",
       "       [   0.        ],\n",
       "       [   0.        ],\n",
       "       [   0.        ],\n",
       "       [   0.        ],\n",
       "       [   0.        ],\n",
       "       [   0.        ],\n",
       "       [   0.        ],\n",
       "       [   0.        ],\n",
       "       [   0.        ],\n",
       "       [   0.        ],\n",
       "       [   0.        ],\n",
       "       [   0.        ],\n",
       "       [   0.        ],\n",
       "       [   0.        ],\n",
       "       [   0.        ],\n",
       "       [   0.        ],\n",
       "       [   0.        ],\n",
       "       [   0.        ],\n",
       "       [   0.        ],\n",
       "       [   0.        ],\n",
       "       [   0.        ],\n",
       "       [   0.        ],\n",
       "       [   0.        ],\n",
       "       [   0.        ],\n",
       "       [   0.        ],\n",
       "       [   0.        ],\n",
       "       [   0.        ],\n",
       "       [   0.        ],\n",
       "       [   0.        ]])"
      ]
     },
     "metadata": {},
     "output_type": "display_data"
    },
    {
     "data": {
      "text/plain": [
       "array([[ 4.60383351e+03],\n",
       "       [ 1.03602891e+02],\n",
       "       [ 0.00000000e+00],\n",
       "       [ 1.32463793e+02],\n",
       "       [ 2.27908931e+03],\n",
       "       [ 1.00723118e+03],\n",
       "       [ 3.42127079e+02],\n",
       "       [ 2.18943476e+03],\n",
       "       [ 8.27230991e+02],\n",
       "       [ 4.23831816e+01],\n",
       "       [ 5.84949455e+01],\n",
       "       [ 2.75676076e+02],\n",
       "       [ 6.93625503e+00],\n",
       "       [ 1.20879571e+02],\n",
       "       [ 8.56238221e+02],\n",
       "       [ 1.09528500e+03],\n",
       "       [ 2.72647875e+02],\n",
       "       [ 4.86954199e+02],\n",
       "       [ 3.84700737e+02],\n",
       "       [ 7.71345321e+02],\n",
       "       [ 5.76642339e+02],\n",
       "       [ 1.61110451e+02],\n",
       "       [ 1.38850949e+02],\n",
       "       [ 3.04018659e+02],\n",
       "       [ 1.90695855e+02],\n",
       "       [ 4.91537808e+02],\n",
       "       [ 4.67309721e+02],\n",
       "       [ 4.36506365e+01],\n",
       "       [ 1.23870975e+03],\n",
       "       [ 3.58036634e+01],\n",
       "       [ 0.00000000e+00],\n",
       "       [ 5.91032808e+00],\n",
       "       [ 5.00578066e+02],\n",
       "       [ 1.28219581e+03],\n",
       "       [ 5.46160025e+03],\n",
       "       [ 2.94765050e+03],\n",
       "       [ 1.61609893e+03],\n",
       "       [ 3.17734241e+03],\n",
       "       [ 9.76415553e+03],\n",
       "       [ 1.87702932e+04],\n",
       "       [ 2.71301266e+03],\n",
       "       [ 1.48902921e+02],\n",
       "       [ 0.00000000e+00],\n",
       "       [ 9.26644312e+01],\n",
       "       [ 1.35223562e+03],\n",
       "       [ 3.27769038e+02],\n",
       "       [ 2.82023129e+02],\n",
       "       [ 1.60183928e+02],\n",
       "       [ 3.90713067e+02],\n",
       "       [ 1.18490740e+02],\n",
       "       [ 3.31721330e+00],\n",
       "       [ 8.65288648e+02],\n",
       "       [ 5.23372810e+01],\n",
       "       [ 7.59316632e+01],\n",
       "       [-5.57587820e+01],\n",
       "       [ 6.56375161e+02],\n",
       "       [ 2.10698057e+01],\n",
       "       [-1.04410334e+02],\n",
       "       [ 2.05659745e+01],\n",
       "       [-9.81074608e+01],\n",
       "       [ 9.59537327e+00],\n",
       "       [-1.23937201e+02],\n",
       "       [ 3.62823027e+02],\n",
       "       [-1.47137227e+01],\n",
       "       [ 4.04924149e+02],\n",
       "       [-2.04218410e+00],\n",
       "       [-7.00251663e+01],\n",
       "       [-4.58862211e+00],\n",
       "       [-1.53088382e-01],\n",
       "       [ 0.00000000e+00],\n",
       "       [ 0.00000000e+00],\n",
       "       [ 5.63335098e+01],\n",
       "       [ 4.02028171e+01],\n",
       "       [ 6.45908043e+02],\n",
       "       [ 1.31961340e+03],\n",
       "       [ 7.19726998e+02],\n",
       "       [ 4.37277542e+02],\n",
       "       [ 6.19943375e+02],\n",
       "       [ 1.18870517e+03],\n",
       "       [ 4.47208112e+03]])"
      ]
     },
     "metadata": {},
     "output_type": "display_data"
    }
   ],
   "source": [
    "from funciones_reentrega import diferencialShock\n",
    "#La primera coordenada del array de shocks sera el sector (su indice es sector -1) y luego el porcentaje del shock que queremos aplicar\n",
    "shocks = [[5, -0.1],[6,0.033],[7,0.033],[8,0.033]]\n",
    "\n",
    "#Queremos saber como sería la diferencia entre una nueva demanda tras los shocks y la demanda previa a estos.\n",
    "deltaDemandaInter = diferencialShock(demandaInter,shocks)\n",
    "\n",
    "display(deltaDemandaInter)\n",
    "#La demanda tras efectuar los shocks es la siguiente\n",
    "nuevaDemandaInter = demandaInter + deltaDemandaInter\n",
    "\n",
    "display(nuevaDemandaInter)"
   ]
  },
  {
   "cell_type": "code",
   "execution_count": 24,
   "id": "VkmGVOK3Ijsg",
   "metadata": {
    "id": "VkmGVOK3Ijsg",
    "outputId": "e74f2a81-92ad-40cd-c0f8-69a0538dac08"
   },
   "outputs": [
    {
     "data": {
      "text/plain": [
       "array([[ 9.99577668e-01, -4.73255190e-05,  0.00000000e+00, ...,\n",
       "         0.00000000e+00, -7.68790107e-07, -4.24466867e-05],\n",
       "       [ 0.00000000e+00,  1.00000000e+00,  0.00000000e+00, ...,\n",
       "         0.00000000e+00,  0.00000000e+00,  0.00000000e+00],\n",
       "       [ 0.00000000e+00,  0.00000000e+00,  1.00000000e+00, ...,\n",
       "         0.00000000e+00,  0.00000000e+00,  0.00000000e+00],\n",
       "       ...,\n",
       "       [ 0.00000000e+00,  0.00000000e+00,  0.00000000e+00, ...,\n",
       "         1.00000000e+00,  0.00000000e+00,  0.00000000e+00],\n",
       "       [-1.17634759e-04, -2.81558621e-04,  0.00000000e+00, ...,\n",
       "        -2.19124745e-03,  9.99728614e-01, -1.15792980e-03],\n",
       "       [-2.86534747e-04, -4.14879042e-04,  0.00000000e+00, ...,\n",
       "        -4.94515338e-03, -9.94188477e-04,  9.95928690e-01]])"
      ]
     },
     "metadata": {},
     "output_type": "display_data"
    },
    {
     "ename": "ValueError",
     "evalue": "array must not contain infs or NaNs",
     "output_type": "error",
     "traceback": [
      "\u001b[1;31m---------------------------------------------------------------------------\u001b[0m",
      "\u001b[1;31mValueError\u001b[0m                                Traceback (most recent call last)",
      "Cell \u001b[1;32mIn[24], line 14\u001b[0m\n\u001b[0;32m     12\u001b[0m \u001b[38;5;66;03m#Calculamos la inversa de las operaciones internas\u001b[39;00m\n\u001b[0;32m     13\u001b[0m L_calculo_delta_p, U_calculo_delta_p, P_calculo_delta_p \u001b[38;5;241m=\u001b[39m calcularLU(calculo_delta_p)\n\u001b[1;32m---> 14\u001b[0m inv_calculo_delta_p \u001b[38;5;241m=\u001b[39m inversaLU(L_calculo_delta_p, U_calculo_delta_p, P_calculo_delta_p)\n\u001b[0;32m     16\u001b[0m \u001b[38;5;66;03m#Como resultado obtenemos al siguiente diferencial de producción con el modelo mencionado.\u001b[39;00m\n\u001b[0;32m     17\u001b[0m deltaDemandaInterCri \u001b[38;5;241m=\u001b[39m deltaDemandaInter[\u001b[38;5;241m0\u001b[39m:\u001b[38;5;241m40\u001b[39m]\n",
      "File \u001b[1;32m~\\funciones_reentrega.py:74\u001b[0m, in \u001b[0;36minversaLU\u001b[1;34m(L, U, P)\u001b[0m\n\u001b[0;32m     71\u001b[0m \u001b[38;5;28mid\u001b[39m \u001b[38;5;241m=\u001b[39m np\u001b[38;5;241m.\u001b[39meye(n)  \u001b[38;5;66;03m# Crea una matriz identidad\u001b[39;00m\n\u001b[0;32m     73\u001b[0m \u001b[38;5;28;01mfor\u001b[39;00m i \u001b[38;5;129;01min\u001b[39;00m \u001b[38;5;28mrange\u001b[39m(n):\n\u001b[1;32m---> 74\u001b[0m     y \u001b[38;5;241m=\u001b[39m solve_triangular(L, np\u001b[38;5;241m.\u001b[39mdot(P, \u001b[38;5;28mid\u001b[39m[:, i]), lower\u001b[38;5;241m=\u001b[39m\u001b[38;5;28;01mTrue\u001b[39;00m)  \u001b[38;5;66;03m# Resuelve L * y = P * e_i\u001b[39;00m\n\u001b[0;32m     75\u001b[0m     x \u001b[38;5;241m=\u001b[39m solve_triangular(U, y)  \u001b[38;5;66;03m# Resuelve U * x = y\u001b[39;00m\n\u001b[0;32m     76\u001b[0m     Inv[:, i] \u001b[38;5;241m=\u001b[39m x  \u001b[38;5;66;03m# Almacena la columna en Inv\u001b[39;00m\n",
      "File \u001b[1;32m~\\anaconda3\\Lib\\site-packages\\scipy\\linalg\\_basic.py:334\u001b[0m, in \u001b[0;36msolve_triangular\u001b[1;34m(a, b, trans, lower, unit_diagonal, overwrite_b, check_finite)\u001b[0m\n\u001b[0;32m    265\u001b[0m \u001b[38;5;28;01mdef\u001b[39;00m \u001b[38;5;21msolve_triangular\u001b[39m(a, b, trans\u001b[38;5;241m=\u001b[39m\u001b[38;5;241m0\u001b[39m, lower\u001b[38;5;241m=\u001b[39m\u001b[38;5;28;01mFalse\u001b[39;00m, unit_diagonal\u001b[38;5;241m=\u001b[39m\u001b[38;5;28;01mFalse\u001b[39;00m,\n\u001b[0;32m    266\u001b[0m                      overwrite_b\u001b[38;5;241m=\u001b[39m\u001b[38;5;28;01mFalse\u001b[39;00m, check_finite\u001b[38;5;241m=\u001b[39m\u001b[38;5;28;01mTrue\u001b[39;00m):\n\u001b[0;32m    267\u001b[0m \u001b[38;5;250m    \u001b[39m\u001b[38;5;124;03m\"\"\"\u001b[39;00m\n\u001b[0;32m    268\u001b[0m \u001b[38;5;124;03m    Solve the equation `a x = b` for `x`, assuming a is a triangular matrix.\u001b[39;00m\n\u001b[0;32m    269\u001b[0m \n\u001b[1;32m   (...)\u001b[0m\n\u001b[0;32m    331\u001b[0m \n\u001b[0;32m    332\u001b[0m \u001b[38;5;124;03m    \"\"\"\u001b[39;00m\n\u001b[1;32m--> 334\u001b[0m     a1 \u001b[38;5;241m=\u001b[39m _asarray_validated(a, check_finite\u001b[38;5;241m=\u001b[39mcheck_finite)\n\u001b[0;32m    335\u001b[0m     b1 \u001b[38;5;241m=\u001b[39m _asarray_validated(b, check_finite\u001b[38;5;241m=\u001b[39mcheck_finite)\n\u001b[0;32m    336\u001b[0m     \u001b[38;5;28;01mif\u001b[39;00m \u001b[38;5;28mlen\u001b[39m(a1\u001b[38;5;241m.\u001b[39mshape) \u001b[38;5;241m!=\u001b[39m \u001b[38;5;241m2\u001b[39m \u001b[38;5;129;01mor\u001b[39;00m a1\u001b[38;5;241m.\u001b[39mshape[\u001b[38;5;241m0\u001b[39m] \u001b[38;5;241m!=\u001b[39m a1\u001b[38;5;241m.\u001b[39mshape[\u001b[38;5;241m1\u001b[39m]:\n",
      "File \u001b[1;32m~\\anaconda3\\Lib\\site-packages\\scipy\\_lib\\_util.py:240\u001b[0m, in \u001b[0;36m_asarray_validated\u001b[1;34m(a, check_finite, sparse_ok, objects_ok, mask_ok, as_inexact)\u001b[0m\n\u001b[0;32m    238\u001b[0m         \u001b[38;5;28;01mraise\u001b[39;00m \u001b[38;5;167;01mValueError\u001b[39;00m(\u001b[38;5;124m'\u001b[39m\u001b[38;5;124mmasked arrays are not supported\u001b[39m\u001b[38;5;124m'\u001b[39m)\n\u001b[0;32m    239\u001b[0m toarray \u001b[38;5;241m=\u001b[39m np\u001b[38;5;241m.\u001b[39masarray_chkfinite \u001b[38;5;28;01mif\u001b[39;00m check_finite \u001b[38;5;28;01melse\u001b[39;00m np\u001b[38;5;241m.\u001b[39masarray\n\u001b[1;32m--> 240\u001b[0m a \u001b[38;5;241m=\u001b[39m toarray(a)\n\u001b[0;32m    241\u001b[0m \u001b[38;5;28;01mif\u001b[39;00m \u001b[38;5;129;01mnot\u001b[39;00m objects_ok:\n\u001b[0;32m    242\u001b[0m     \u001b[38;5;28;01mif\u001b[39;00m a\u001b[38;5;241m.\u001b[39mdtype \u001b[38;5;129;01mis\u001b[39;00m np\u001b[38;5;241m.\u001b[39mdtype(\u001b[38;5;124m'\u001b[39m\u001b[38;5;124mO\u001b[39m\u001b[38;5;124m'\u001b[39m):\n",
      "File \u001b[1;32m~\\anaconda3\\Lib\\site-packages\\numpy\\lib\\function_base.py:630\u001b[0m, in \u001b[0;36masarray_chkfinite\u001b[1;34m(a, dtype, order)\u001b[0m\n\u001b[0;32m    628\u001b[0m a \u001b[38;5;241m=\u001b[39m asarray(a, dtype\u001b[38;5;241m=\u001b[39mdtype, order\u001b[38;5;241m=\u001b[39morder)\n\u001b[0;32m    629\u001b[0m \u001b[38;5;28;01mif\u001b[39;00m a\u001b[38;5;241m.\u001b[39mdtype\u001b[38;5;241m.\u001b[39mchar \u001b[38;5;129;01min\u001b[39;00m typecodes[\u001b[38;5;124m'\u001b[39m\u001b[38;5;124mAllFloat\u001b[39m\u001b[38;5;124m'\u001b[39m] \u001b[38;5;129;01mand\u001b[39;00m \u001b[38;5;129;01mnot\u001b[39;00m np\u001b[38;5;241m.\u001b[39misfinite(a)\u001b[38;5;241m.\u001b[39mall():\n\u001b[1;32m--> 630\u001b[0m     \u001b[38;5;28;01mraise\u001b[39;00m \u001b[38;5;167;01mValueError\u001b[39;00m(\n\u001b[0;32m    631\u001b[0m         \u001b[38;5;124m\"\u001b[39m\u001b[38;5;124marray must not contain infs or NaNs\u001b[39m\u001b[38;5;124m\"\u001b[39m)\n\u001b[0;32m    632\u001b[0m \u001b[38;5;28;01mreturn\u001b[39;00m a\n",
      "\u001b[1;31mValueError\u001b[0m: array must not contain infs or NaNs"
     ]
    }
   ],
   "source": [
    "\n",
    "#Le asigno una variable a lo que se le calcula la inversa dentro de la ecuación ya mostrada..\n",
    "#CALCULAMOS PRIMERO INVERSA DE (IMXM - ANICNIC)\n",
    "\n",
    "idMenosANicNic = (np.eye(ANicNic.shape[0]) - ANicNic)\n",
    "display(idMenosANicNic)\n",
    "L_idMenosANicNic, U_idMenosANicNic, P_idMenosANicNic =calcularLU(idMenosANicNic)\n",
    "\n",
    "inv_idMenosANicNic = inversaLU(L_idMenosANicNic, U_idMenosANicNic, P_idMenosANicNic)\n",
    "\n",
    "calculo_delta_p = ((np.eye(ACriCri.shape[0]) - ACriCri - ACriNic @ inv_idMenosANicNic) @ ANicCri)\n",
    "\n",
    "#Calculamos la inversa de las operaciones internas\n",
    "L_calculo_delta_p, U_calculo_delta_p, P_calculo_delta_p = calcularLU(calculo_delta_p)\n",
    "inv_calculo_delta_p = inversaLU(L_calculo_delta_p, U_calculo_delta_p, P_calculo_delta_p)\n",
    "\n",
    "#Como resultado obtenemos al siguiente diferencial de producción con el modelo mencionado.\n",
    "deltaDemandaInterCri = deltaDemandaInter[0:40]\n",
    "\n",
    "deltaProduccionCriInter = inv_calculo_delta_p @ deltaDemandaInterCri\n",
    "\n",
    "display(deltaProduccionCriInter)\n"
   ]
  },
  {
   "cell_type": "markdown",
   "id": "_kiiszHujYEy",
   "metadata": {
    "id": "_kiiszHujYEy"
   },
   "source": [
    "A simple vista podemos notar que sobre algunos sectores de la variación de producción no presentan diferencias notorias, trataremos de ver a que se debe esto.\n",
    "\n",
    "Y también un poco de visualización nos vendría bien para analizar que diferencias se presentan en los modelos..."
   ]
  },
  {
   "cell_type": "code",
   "execution_count": 20,
   "id": "K8M-1x_Vjk7Z",
   "metadata": {
    "colab": {
     "base_uri": "https://localhost:8080/",
     "height": 87
    },
    "executionInfo": {
     "elapsed": 265,
     "status": "ok",
     "timestamp": 1729015868467,
     "user": {
      "displayName": "Tizi Lemes",
      "userId": "10175839684175227165"
     },
     "user_tz": 180
    },
    "id": "K8M-1x_Vjk7Z",
    "outputId": "464a1b88-86c0-4870-8a89-3492f0d73f44"
   },
   "outputs": [
    {
     "data": {
      "text/plain": [
       "'\\nimport matplotlib.pyplot as plt\\n\\nejeX = np.arange(1,41)\\n\\nfig ,(deltaPCriIntra, deltaPCriInter) = plt.subplots(1,2, figsize= (12, 4))\\n\\n#Para el del modelo intrarregional tenemos el primer subgrafico\\ndeltaPCriIntra.scatter(ejeX, deltaProduccionCriIntra)\\ndeltaPCriIntra.set_title(\"Modelo intrarregional Costa Rica\")\\ndeltaPCriIntra.set_xlabel(\"Producciones\")\\ndeltaPCriIntra.set_ylabel(\"Variación de producción\")\\n\\n#Para el del modelo interregional tenemos el segundo subgráfico\\n\\ndeltaPCriInter.scatter(ejeX, deltaProduccionCriInter)\\ndeltaPCriInter.set_title(\"Modelo relación interregional\")\\ndeltaPCriInter.set_xlabel(\"Producciones\")\\ndeltaPCriInter.set_ylabel(\"Variación de producción\")\\n\\n#para ajustar los graficos\\nplt.tight_layout()\\nplt.show()\\n'"
      ]
     },
     "execution_count": 20,
     "metadata": {},
     "output_type": "execute_result"
    }
   ],
   "source": [
    "\"\"\"A continuación utilizaremos un gráfico de dispersión de puntos para poder visualizar que tanto difieren los valores de la variación\n",
    "en cada producción respecto de su sector para ambos modelos\"\"\"\n",
    "\n",
    "import matplotlib.pyplot as plt\n",
    "\n",
    "\n",
    "delta_producciones = np.hstack((deltaPCriIntra, deltaProduccionCriInter))\n",
    "\n",
    "data = pd.DataFrame(delta_producciones, columns=['deltaPCriIntra', 'deltaProduccionCriInter'])\n",
    "\n",
    "data = data.rename(columns={'deltaPCriIntra':\"Produccion_Intra\",'deltaProduccionCriInter':\"Produccion_Inter\"})\n",
    "\n",
    "fig, ax= plt.subplots()\n",
    "\n",
    "plt.rcParams['font.family']= 'sans-serif'\n",
    "\n",
    "data.plot(y= ['Prod_IntraReg','Prod_InterReg'],\n",
    "                 kind= 'bar',\n",
    "                 ax=ax,title=\"El shock que se produce en las demandas\")"
   ]
  },
  {
   "cell_type": "markdown",
   "id": "cc9b9cfe-5fa3-4fdf-92ca-f0ee22e60c06",
   "metadata": {
    "id": "cc9b9cfe-5fa3-4fdf-92ca-f0ee22e60c06"
   },
   "source": [
    "En los gráficos podemos observar como la variación de la producción según el modelo utilizado no presentan una gran diferencia significativa en sus valores.\n",
    "\n",
    "Sobre este aspecto y el resto del trabajo realizado anteriormente, podriamos decir que el aporte economico que propicia las relaciones interregionales entre Costa Rica y Nicaragua, para el resultado de las producciones del primer país es prescindible (al menos sobre los sectores trabajados, los cuáles si afectan a otros sectores.)\n",
    "\n",
    "Aparentemente, frente a la demanda efectuada por el shock sobre el que trabajamos, las producciones totales de Costa Rica serían similares si éste tuviera o no una dinámica económica activa con Nicaragua."
   ]
  },
  {
   "cell_type": "code",
   "execution_count": null,
   "id": "230a5533-8677-4d17-9c75-acce38ae1a95",
   "metadata": {
    "id": "230a5533-8677-4d17-9c75-acce38ae1a95"
   },
   "outputs": [],
   "source": []
  },
  {
   "cell_type": "code",
   "execution_count": null,
   "id": "7ee8f084-55e1-4f04-91d1-0d90fa48a17a",
   "metadata": {},
   "outputs": [],
   "source": []
  }
 ],
 "metadata": {
  "colab": {
   "provenance": []
  },
  "kernelspec": {
   "display_name": "Python 3 (ipykernel)",
   "language": "python",
   "name": "python3"
  },
  "language_info": {
   "codemirror_mode": {
    "name": "ipython",
    "version": 3
   },
   "file_extension": ".py",
   "mimetype": "text/x-python",
   "name": "python",
   "nbconvert_exporter": "python",
   "pygments_lexer": "ipython3",
   "version": "3.11.7"
  }
 },
 "nbformat": 4,
 "nbformat_minor": 5
}
